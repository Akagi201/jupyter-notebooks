{
 "cells": [
  {
   "cell_type": "markdown",
   "id": "d9e7c7f9-95f7-4d97-b5b6-a53b1d8db1fc",
   "metadata": {},
   "source": [
    "# settlement calculation\n",
    "use sagemath notebook\n",
    "calc bob settlement"
   ]
  },
  {
   "cell_type": "markdown",
   "id": "fec4457b-473b-443c-9927-6f399242c1b8",
   "metadata": {},
   "source": [
    "## charge_funding_fee\n",
    "accrued_fee_unconverted = position_qty*(sum_unitary_fundings-last_sum_unitary_fundings)"
   ]
  },
  {
   "cell_type": "code",
   "execution_count": 3,
   "id": "7d4b182f-f552-4cb5-a122-45cdce63f22a",
   "metadata": {},
   "outputs": [],
   "source": [
    "accrued_fee_unconverted = 1_000_000_000*(20_000_000_000_000_000-10_000_000_000_000_000)"
   ]
  },
  {
   "cell_type": "code",
   "execution_count": 6,
   "id": "2275e3f2-63ed-43ae-b7a9-4e39a2a6376e",
   "metadata": {},
   "outputs": [],
   "source": [
    "FUNDING_MOVE_RIGHT_PRECISIONS = 10**(15+8-6)\n",
    "accrued_fee = accrued_fee_unconverted/FUNDING_MOVE_RIGHT_PRECISIONS"
   ]
  },
  {
   "cell_type": "markdown",
   "id": "49bec8da-d198-4cf1-a4ff-5b526d8defc2",
   "metadata": {},
   "source": [
    "cost_position = cost_position + accrued_fee"
   ]
  },
  {
   "cell_type": "code",
   "execution_count": 13,
   "id": "80c04afa-bf14-47b4-a10d-6235ab9312e6",
   "metadata": {},
   "outputs": [
    {
     "name": "stdout",
     "output_type": "stream",
     "text": [
      "200000000\n"
     ]
    }
   ],
   "source": [
    "cost_position = 100_000_000 + accrued_fee\n",
    "print(cost_position)"
   ]
  },
  {
   "cell_type": "code",
   "execution_count": 11,
   "id": "0eac20ec-1859-4af9-95de-38d96ca49c6d",
   "metadata": {},
   "outputs": [
    {
     "name": "stdout",
     "output_type": "stream",
     "text": [
      "200_000_000\n"
     ]
    }
   ],
   "source": [
    "num = 200000000\n",
    "formatted_num = f'{num:,}'.replace(',', '_')\n",
    "print(formatted_num)"
   ]
  },
  {
   "cell_type": "code",
   "execution_count": null,
   "id": "5b51fc39-9b47-4f74-9afc-232a4f143c03",
   "metadata": {},
   "outputs": [],
   "source": []
  }
 ],
 "metadata": {
  "kernelspec": {
   "display_name": "SageMath 9.8",
   "language": "sage",
   "name": "sagemath"
  },
  "language_info": {
   "codemirror_mode": {
    "name": "ipython",
    "version": 3
   },
   "file_extension": ".py",
   "mimetype": "text/x-python",
   "name": "python",
   "nbconvert_exporter": "python",
   "pygments_lexer": "ipython3",
   "version": "3.10.10"
  }
 },
 "nbformat": 4,
 "nbformat_minor": 5
}
